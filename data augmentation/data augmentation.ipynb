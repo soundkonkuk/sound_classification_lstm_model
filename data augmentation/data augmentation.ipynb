{
 "cells": [
  {
   "cell_type": "code",
   "execution_count": 1,
   "metadata": {},
   "outputs": [],
   "source": [
    "import numpy as np\n",
    "import random\n",
    "import itertools\n",
    "import librosa\n",
    "import IPython.display as ipd\n",
    "import soundfile as sf"
   ]
  },
  {
   "cell_type": "markdown",
   "metadata": {},
   "source": [
    "## white noise"
   ]
  },
  {
   "cell_type": "code",
   "execution_count": 2,
   "metadata": {},
   "outputs": [],
   "source": [
    "def add_white_noise(data, sr, noise_rate, check, num):\n",
    "    #librosa 0.8.0 부터 librosa.outpout write_wav 지원 x\n",
    "    wn = np.random.randn(len(data))\n",
    "    data_wn = data + noise_rate*wn\n",
    "    if check == 0:\n",
    "        path = 'D:/dataset3/siren' + str(num) +'.wav'\n",
    "        sf.write(path, data, sr)\n",
    "    elif check == 1:\n",
    "        path = 'D:/dataset3/dogbark' + str(num) +'.wav'\n",
    "        sf.write(path, data, sr)\n",
    "    else:\n",
    "        path = 'D:/dataset3/babycry' + str(num) +'.wav'\n",
    "        sf.write(path, data, sr)\n",
    "        \n",
    "    return data"
   ]
  },
  {
   "cell_type": "markdown",
   "metadata": {},
   "source": [
    "## reverse"
   ]
  },
  {
   "cell_type": "code",
   "execution_count": 3,
   "metadata": {},
   "outputs": [],
   "source": [
    "def reverse_your_sound(data, sr, check, num):\n",
    "    data_len = len(data)\n",
    "    data = np.array([data[len(data)-1-i] for i in range(len(data))])\n",
    "    if check == 0:\n",
    "        path = 'D:/dataset3/siren' + str(num) +'.wav'\n",
    "        sf.write(path, data, sr)\n",
    "    elif check == 1:\n",
    "        path = 'D:/dataset3/dogbark' + str(num) +'.wav'\n",
    "        sf.write(path, data, sr)\n",
    "    else:\n",
    "        path = 'D:/dataset3/babycry' + str(num) +'.wav'\n",
    "        sf.write(path, data, sr)\n",
    "    \n",
    "    return data"
   ]
  },
  {
   "cell_type": "markdown",
   "metadata": {},
   "source": [
    "## shifting"
   ]
  },
  {
   "cell_type": "code",
   "execution_count": 4,
   "metadata": {},
   "outputs": [],
   "source": [
    "def shifting_sound(data, sr, roll_rate, check, num):\n",
    "    data_roll = np.roll(data, int(len(data) * roll_rate))\n",
    "    if check == 0:\n",
    "        path = 'D:/dataset3/siren' + str(num) +'.wav'\n",
    "        sf.write(path, data, sr)\n",
    "    elif check == 1:\n",
    "        path = 'D:/dataset3/dogbark' + str(num) +'.wav'\n",
    "        sf.write(path, data, sr)\n",
    "    else:\n",
    "        path = 'D:/dataset3/babycry' + str(num) +'.wav'\n",
    "        sf.write(path, data, sr)\n",
    "    \n",
    "    return data"
   ]
  },
  {
   "cell_type": "markdown",
   "metadata": {},
   "source": [
    "## stretching"
   ]
  },
  {
   "cell_type": "code",
   "execution_count": 5,
   "metadata": {},
   "outputs": [],
   "source": [
    "def stretch_sound(data, sr, rate, check, num):\n",
    "    stretch_data = librosa.effects.time_stretch(data, rate)\n",
    "    if check == 0:\n",
    "        path = 'D:/dataset3/siren' + str(num) +'.wav'\n",
    "        sf.write(path, data, sr)\n",
    "    elif check == 1:\n",
    "        path = 'D:/dataset3/dogbark' + str(num) +'.wav'\n",
    "        sf.write(path, data, sr)\n",
    "    else:\n",
    "        path = 'D:/dataset3/babycry' + str(num) +'.wav'\n",
    "        sf.write(path, data, sr)\n",
    "    return data"
   ]
  },
  {
   "cell_type": "markdown",
   "metadata": {},
   "source": [
    "## minus"
   ]
  },
  {
   "cell_type": "code",
   "execution_count": 6,
   "metadata": {},
   "outputs": [],
   "source": [
    "def minus_sound(data, sr, check, num):\n",
    "    temp_numpy = (-1)*data\n",
    "    if check == 0:\n",
    "        path = 'D:/dataset3/siren' + str(num) +'.wav'\n",
    "        sf.write(path, data, sr)\n",
    "    elif check == 1:\n",
    "        path = 'D:/dataset3/dogbark' + str(num) +'.wav'\n",
    "        sf.write(path, data, sr)\n",
    "    else:\n",
    "        path = 'D:/dataset3/babycry' + str(num) +'.wav'\n",
    "        sf.write(path, data, sr)\n",
    "    return data\n",
    "\n"
   ]
  },
  {
   "cell_type": "code",
   "execution_count": 7,
   "metadata": {},
   "outputs": [
    {
     "name": "stderr",
     "output_type": "stream",
     "text": [
      "C:\\Users\\Administrator\\anaconda3\\lib\\site-packages\\librosa\\core\\audio.py:162: UserWarning: PySoundFile failed. Trying audioread instead.\n",
      "  warnings.warn(\"PySoundFile failed. Trying audioread instead.\")\n"
     ]
    },
    {
     "name": "stdout",
     "output_type": "stream",
     "text": [
      "error file\n",
      "error file\n"
     ]
    }
   ],
   "source": [
    "import os\n",
    "file_path = 'D:/dataset/'\n",
    "file_names = os.listdir(file_path)\n",
    "\n",
    "\n",
    "def augmentation(file_names):\n",
    "    siren_num = 1857\n",
    "    dogbark_num = 2779\n",
    "    babycry_num = 2794\n",
    "    check = 0\n",
    "    for name in file_names:\n",
    "        try:\n",
    "            if name.startswith('s'):\n",
    "                check = 0\n",
    "                #load 추가 해야함..................\n",
    "                data,sr = librosa.load(file_path + name, sr=22050)\n",
    "                #add_white_noise(data,sr,0.005,check,siren_num)\n",
    "                reverse_your_sound(data, sr, check, siren_num)\n",
    "                siren_num+=1\n",
    "                shifting_sound(data, sr, 0.1, check, siren_num)\n",
    "                siren_num+=1\n",
    "                stretch_sound(data, sr, 0.8, check, siren_num)\n",
    "                siren_num+=1\n",
    "                minus_sound(data, sr, check, siren_num)\n",
    "                siren_num+=1\n",
    "            if name.startswith('d'):\n",
    "                check = 1\n",
    "                data,sr = librosa.load(file_path + name, sr=22050)\n",
    "                #add_white_noise(data,sr,0.005,check,dogbark_num)\n",
    "                reverse_your_sound(data, sr, check, dogbark_num)\n",
    "                dogbark_num+=1\n",
    "                shifting_sound(data, sr, 0.1, check, dogbark_num)\n",
    "                dogbark_num+=1\n",
    "                stretch_sound(data, sr, 0.8, check, dogbark_num)\n",
    "                dogbark_num+=1\n",
    "                minus_sound(data, sr, check, dogbark_num)\n",
    "                dogbark_num+=1\n",
    "            if name.startswith('b'):\n",
    "                check = 2\n",
    "                data,sr = librosa.load(file_path + name, sr=22050)\n",
    "                #add_white_noise(data,sr,0.005,check,babycry_num)\n",
    "                reverse_your_sound(data, sr, check, babycry_num)\n",
    "                babycry_num+=1\n",
    "                shifting_sound(data, sr, 0.1, check, babycry_num)\n",
    "                babycry_num+=1\n",
    "                stretch_sound(data, sr, 0.8, check, babycry_num)\n",
    "                babycry_num+=1\n",
    "                minus_sound(data, sr, check, babycry_num)\n",
    "                babycry_num+=1\n",
    "        except:\n",
    "            print(\"error file\")\n",
    "            \n",
    "augmentation(file_names)"
   ]
  }
 ],
 "metadata": {
  "kernelspec": {
   "display_name": "Python 3",
   "language": "python",
   "name": "python3"
  },
  "language_info": {
   "codemirror_mode": {
    "name": "ipython",
    "version": 3
   },
   "file_extension": ".py",
   "mimetype": "text/x-python",
   "name": "python",
   "nbconvert_exporter": "python",
   "pygments_lexer": "ipython3",
   "version": "3.8.3"
  }
 },
 "nbformat": 4,
 "nbformat_minor": 4
}
