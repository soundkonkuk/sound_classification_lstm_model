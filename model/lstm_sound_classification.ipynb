{
 "cells": [
  {
   "cell_type": "markdown",
   "metadata": {},
   "source": [
    "### 파일명 바꿔주기"
   ]
  },
  {
   "cell_type": "code",
   "execution_count": 1,
   "metadata": {},
   "outputs": [],
   "source": [
    "import os\n",
    "file_path = 'D:/UrbanSound8K/UrbanSound8K/audio/fold6'\n",
    "file_names = os.listdir(file_path)\n",
    "file_names\n",
    "\n",
    "i = 1001\n",
    "j = 929\n",
    "for name in file_names:\n",
    "    src = os.path.join(file_path, name)\n",
    "    if(int(name.split('-')[1])==8):\n",
    "        dst = 'siren' + str(j) + '.wav'\n",
    "        j += 1        \n",
    "        dst = os.path.join(file_path, dst)\n",
    "        os.rename(src, dst)\n",
    "    if(int(name.split('-')[1])==3):\n",
    "        dst = 'dogbark' + str(i) + '.wav'\n",
    "        i += 1        \n",
    "        dst = os.path.join(file_path, dst)\n",
    "        os.rename(src, dst)"
   ]
  },
  {
   "cell_type": "markdown",
   "metadata": {},
   "source": [
    "### features 추출"
   ]
  },
  {
   "cell_type": "code",
   "execution_count": 1,
   "metadata": {},
   "outputs": [],
   "source": [
    "import numpy as np\n",
    "import pandas as pd\n",
    "import glob\n",
    "import librosa\n",
    "\n",
    "def sound_feature(file_name):\n",
    "    X, sample_rate = librosa.load(file_name)\n",
    "    stft = np.abs(librosa.stft(X))\n",
    "    mfccs = np.mean(librosa.feature.mfcc(y=X, sr=sample_rate, n_mfcc=40).T,axis=0)\n",
    "    chroma = np.mean(librosa.feature.chroma_stft(S=stft, sr=sample_rate).T,axis=0)\n",
    "    mel = np.mean(librosa.feature.melspectrogram(X, sr=sample_rate).T,axis=0)\n",
    "    contrast = np.mean(librosa.feature.spectral_contrast(S=stft, sr=sample_rate).T,axis=0)\n",
    "    tonnetz = np.mean(librosa.feature.tonnetz(y=librosa.effects.harmonic(X), sr=sample_rate).T,axis=0)\n",
    "    return mfccs,chroma,mel,contrast,tonnetz"
   ]
  },
  {
   "cell_type": "code",
   "execution_count": 2,
   "metadata": {},
   "outputs": [
    {
     "name": "stdout",
     "output_type": "stream",
     "text": [
      "(41668, 193)\n"
     ]
    }
   ],
   "source": [
    "files = glob.glob('D:/dataset3/*.wav')\n",
    "rows = len(files)\n",
    "features = np.zeros((rows, 193))\n",
    "print(features.shape)"
   ]
  },
  {
   "cell_type": "code",
   "execution_count": 3,
   "metadata": {},
   "outputs": [],
   "source": [
    "def parse_files(files): \n",
    "    index=0\n",
    "    for filename in files:\n",
    "        try:\n",
    "            mfccs, chroma, mel, contrast, tonnetz = sound_feature(filename)\n",
    "            exfeatures = np.hstack([mfccs, chroma, mel, contrast, tonnetz])\n",
    "        except:\n",
    "            print(\"error \" + filename)\n",
    "        else:\n",
    "            features[index] = exfeatures\n",
    "            index+=1\n",
    "    print(features)\n",
    "    return features"
   ]
  },
  {
   "cell_type": "code",
   "execution_count": null,
   "metadata": {},
   "outputs": [],
   "source": [
    "parse_files(files)"
   ]
  },
  {
   "cell_type": "markdown",
   "metadata": {},
   "source": [
    "### label 원핫인코딩"
   ]
  },
  {
   "cell_type": "code",
   "execution_count": 4,
   "metadata": {},
   "outputs": [],
   "source": [
    "import os\n",
    "int_y = []\n",
    "y = []\n",
    "\n",
    "label_dict = {\n",
    "    'dogbark' : 0,\n",
    "    'siren' : 1,\n",
    "    'babycry' : 2,\n",
    "    'Doorbell' :3,\n",
    "}\n",
    "\n",
    "path = 'D:/dataset3'"
   ]
  },
  {
   "cell_type": "code",
   "execution_count": 5,
   "metadata": {},
   "outputs": [],
   "source": [
    "for file_path in os.listdir(path) :\n",
    "    if file_path[0] == '.' : \n",
    "        continue\n",
    "    for item_key, item_val in label_dict.items():\n",
    "        cur = np.zeros(len(label_dict)) \n",
    "        if item_key in file_path :\n",
    "            cur[item_val] = 1 \n",
    "            y.append(cur)\n",
    "            int_y.append(item_val)"
   ]
  },
  {
   "cell_type": "markdown",
   "metadata": {},
   "source": [
    "### 골고루 데이터 섞어주기"
   ]
  },
  {
   "cell_type": "code",
   "execution_count": null,
   "metadata": {},
   "outputs": [],
   "source": [
    "from sklearn.model_selection import StratifiedShuffleSplit\n",
    "\n",
    "stratSplit = StratifiedShuffleSplit(n_splits=1, test_size=0.32, random_state=0)\n",
    "\n",
    "stratSplit.get_n_splits(features, int_y)\n",
    "\n",
    "for train_index, test_index in stratSplit.split(features, y):\n",
    "    ##print(\"TRAIN:\", train_index, \"TEST:\", test_index)\n",
    "    X_train, X_test = features[train_index], features[test_index]\n",
    "    y_train, y_test = y[train_index], y[test_index]\n",
    "\n",
    "print(X_train.shape)\n",
    "print(y_train.shape)\n",
    "\n",
    "X_train = X_train.reshape(X_train.shape[0], 193, 1)\n",
    "X_test = X_test.reshape(X_test.shape[0], 193, 1)"
   ]
  },
  {
   "cell_type": "code",
   "execution_count": 9,
   "metadata": {},
   "outputs": [],
   "source": [
    "np.save(\"X_train\", X_train)\n",
    "np.save(\"X_test\", X_test)\n",
    "np.save(\"y_train\", y_train)\n",
    "np.save(\"y_test\", y_test)"
   ]
  },
  {
   "cell_type": "code",
   "execution_count": 7,
   "metadata": {},
   "outputs": [],
   "source": [
    "X_test = np.load('X_test.npy') \n",
    "X_train = np.load('X_train.npy') \n",
    "y_test = np.load('y_test.npy')\n",
    "y_train = np.load('y_train.npy')"
   ]
  },
  {
   "cell_type": "markdown",
   "metadata": {},
   "source": [
    "### 학습"
   ]
  },
  {
   "cell_type": "code",
   "execution_count": 8,
   "metadata": {},
   "outputs": [],
   "source": [
    "import matplotlib.pyplot as plt\n",
    "from tensorflow.keras.models import Sequential, load_model\n",
    "from tensorflow.keras.layers import LSTM, Dense, GRU\n",
    "from keras.utils import to_categorical\n",
    "from keras.callbacks import EarlyStopping"
   ]
  },
  {
   "cell_type": "code",
   "execution_count": 9,
   "metadata": {},
   "outputs": [
    {
     "name": "stdout",
     "output_type": "stream",
     "text": [
      "Model: \"sequential\"\n",
      "_________________________________________________________________\n",
      "Layer (type)                 Output Shape              Param #   \n",
      "=================================================================\n",
      "lstm (LSTM)                  (None, 20)                1760      \n",
      "_________________________________________________________________\n",
      "dense (Dense)                (None, 4)                 84        \n",
      "=================================================================\n",
      "Total params: 1,844\n",
      "Trainable params: 1,844\n",
      "Non-trainable params: 0\n",
      "_________________________________________________________________\n",
      "Epoch 1/10\n",
      "2834/2834 [==============================] - 88s 31ms/step - loss: 0.1707 - accuracy: 0.4485 - val_loss: 0.1377 - val_accuracy: 0.5756\n",
      "Epoch 2/10\n",
      "2834/2834 [==============================] - 93s 33ms/step - loss: 0.1334 - accuracy: 0.5920 - val_loss: 0.1310 - val_accuracy: 0.6176\n",
      "Epoch 3/10\n",
      "2834/2834 [==============================] - 94s 33ms/step - loss: 0.1160 - accuracy: 0.6633 - val_loss: 0.1074 - val_accuracy: 0.7062\n",
      "Epoch 4/10\n",
      "2834/2834 [==============================] - 95s 33ms/step - loss: 0.1024 - accuracy: 0.7097 - val_loss: 0.0916 - val_accuracy: 0.7458\n",
      "Epoch 5/10\n",
      "2834/2834 [==============================] - 95s 33ms/step - loss: 0.0957 - accuracy: 0.7326 - val_loss: 0.0909 - val_accuracy: 0.7553\n",
      "Epoch 6/10\n",
      "2834/2834 [==============================] - 96s 34ms/step - loss: 0.0918 - accuracy: 0.7463 - val_loss: 0.0871 - val_accuracy: 0.7638\n",
      "Epoch 7/10\n",
      "2834/2834 [==============================] - 97s 34ms/step - loss: 0.0892 - accuracy: 0.7528 - val_loss: 0.0907 - val_accuracy: 0.7464\n",
      "Epoch 8/10\n",
      "2834/2834 [==============================] - 95s 33ms/step - loss: 0.0954 - accuracy: 0.7300 - val_loss: 0.0884 - val_accuracy: 0.7542\n",
      "Epoch 9/10\n",
      "2834/2834 [==============================] - 94s 33ms/step - loss: 0.0843 - accuracy: 0.7678 - val_loss: 0.0762 - val_accuracy: 0.7947\n",
      "Epoch 10/10\n",
      "2834/2834 [==============================] - 93s 33ms/step - loss: 0.0786 - accuracy: 0.7857 - val_loss: 0.0788 - val_accuracy: 0.7884\n"
     ]
    },
    {
     "data": {
      "image/png": "[encoded data removed]",
      "text/plain": [
       "<Figure size 1080x720 with 1 Axes>"
      ]
     },
     "metadata": {
      "needs_background": "light"
     },
     "output_type": "display_data"
    },
    {
     "name": "stdout",
     "output_type": "stream",
     "text": [
      "{'loss': [0.1567039042711258, 0.1283714771270752, 0.11252079904079437, 0.10077661275863647, 0.0946899875998497, 0.09116444736719131, 0.09216523915529251, 0.09281753748655319, 0.08161456137895584, 0.0786631628870964], 'accuracy': [0.5054351687431335, 0.6130443811416626, 0.6774193644523621, 0.7159596085548401, 0.7367473840713501, 0.7485706210136414, 0.7429943084716797, 0.7393590807914734, 0.7780758142471313, 0.785134494304657], 'val_loss': [0.137733593583107, 0.13099431991577148, 0.10741768777370453, 0.09156618267297745, 0.09086744487285614, 0.08710359781980515, 0.09065426886081696, 0.08842100948095322, 0.0761953741312027, 0.07878831028938293], 'val_accuracy': [0.5755962133407593, 0.6175941228866577, 0.7062397003173828, 0.7457627058029175, 0.755287230014801, 0.7638368010520935, 0.746437668800354, 0.7542372941970825, 0.7946602702140808, 0.7884355783462524]}\n",
      "train loss= 0.0786631628870964\n",
      "validation loss= 0.07878831028938293\n"
     ]
    }
   ],
   "source": [
    "def plot_loss_curve(history):\n",
    "    import matplotlib.pyplot as plt\n",
    "    \n",
    "    plt.figure(figsize=(15,10))\n",
    "    \n",
    "    plt.plot(history['loss'])\n",
    "    plt.plot(history['val_loss'])\n",
    "    plt.title('model loss')\n",
    "    plt.ylabel('loss')\n",
    "    plt.xlabel('epoch')\n",
    "    plt.legend(['train', 'test'], loc='upper right')\n",
    "    plt.show()\n",
    "    \n",
    "def train_lstm_model(X_train, X_test):\n",
    "    model = Sequential()\n",
    "    model.add(LSTM(20, input_shape=(193, 1))) \n",
    "    model.add(Dense(4))\n",
    "    model.summary()\n",
    "    \n",
    "    model.compile(optimizer='adam', loss='mean_squared_error', metrics=['accuracy'])\n",
    "    \n",
    "    earlystopping = EarlyStopping(monitor='loss', patience=1, verbose=1)\n",
    "    \n",
    "    history = model.fit(X_train, y_train, epochs=10, validation_data=(X_test, y_test), batch_size=10, \n",
    "                        verbose=1)\n",
    "    \n",
    "    plot_loss_curve(history.history)\n",
    "    \n",
    "    print(history.history)\n",
    "    \n",
    "    print(\"train loss=\",history.history['loss'][-1])\n",
    "    print(\"validation loss=\",history.history['val_loss'][-1])\n",
    "    \n",
    "    return model\n",
    "\n",
    "model = train_lstm_model(X_train, X_test)\n"
   ]
  },
  {
   "cell_type": "markdown",
   "metadata": {},
   "source": [
    "### predict 하기 위한 feature 추출"
   ]
  },
  {
   "cell_type": "code",
   "execution_count": 10,
   "metadata": {},
   "outputs": [],
   "source": [
    "def parse_sound(files): \n",
    "    index=0\n",
    "    try:\n",
    "        mfccs, chroma, mel, contrast, tonnetz = sound_feature(files)\n",
    "        exfeatures = np.hstack([mfccs, chroma, mel, contrast, tonnetz])\n",
    "    except:\n",
    "        print(\"error \" + filename)\n",
    "    else:\n",
    "        features[index] = exfeatures\n",
    "        index+=1\n",
    "    return features\n"
   ]
  },
  {
   "cell_type": "markdown",
   "metadata": {},
   "source": [
    "### predict"
   ]
  },
  {
   "cell_type": "code",
   "execution_count": 11,
   "metadata": {},
   "outputs": [],
   "source": [
    "def predict_sound(filename):\n",
    "    X = parse_sound(filename)\n",
    "    X = X[0]\n",
    "    X = X.reshape(1,193,1)\n",
    "    y_pred = model.predict(X)\n",
    "    y_pred = np.argmax(y_pred, axis=1)[0]\n",
    "    if y_pred == 0:\n",
    "        print('개 짖는 소리가 들립니다!')\n",
    "    elif y_pred == 1:\n",
    "        print('siren 소리가 들립니다!')\n",
    "    elif y_pred == 2:\n",
    "        print('아기 울음 소리가 들립니다!')\n",
    "    else:\n",
    "        print('Doorbell 소리가 들립니다!')"
   ]
  },
  {
   "cell_type": "code",
   "execution_count": 12,
   "metadata": {
    "scrolled": true
   },
   "outputs": [
    {
     "name": "stdout",
     "output_type": "stream",
     "text": [
      "개 짖는 소리가 들립니다!\n"
     ]
    }
   ],
   "source": [
    "predict_sound('dogbark6.wav')"
   ]
  }
 ],
 "metadata": {
  "kernelspec": {
   "display_name": "Python 3",
   "language": "python",
   "name": "python3"
  },
  "language_info": {
   "codemirror_mode": {
    "name": "ipython",
    "version": 3
   },
   "file_extension": ".py",
   "mimetype": "text/x-python",
   "name": "python",
   "nbconvert_exporter": "python",
   "pygments_lexer": "ipython3",
   "version": "3.7.6"
  }
 },
 "nbformat": 4,
 "nbformat_minor": 4
}
