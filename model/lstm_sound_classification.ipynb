{
 "cells": [
  {
   "cell_type": "markdown",
   "metadata": {},
   "source": [
    "### 파일명 바꿔주기"
   ]
  },
  {
   "cell_type": "code",
   "execution_count": 1,
   "metadata": {},
   "outputs": [],
   "source": [
    "import os\n",
    "file_path = 'D:/UrbanSound8K/UrbanSound8K/audio/fold6'\n",
    "file_names = os.listdir(file_path)\n",
    "file_names\n",
    "\n",
    "i = 1001\n",
    "j = 929\n",
    "for name in file_names:\n",
    "    src = os.path.join(file_path, name)\n",
    "    if(int(name.split('-')[1])==8):\n",
    "        dst = 'siren' + str(j) + '.wav'\n",
    "        j += 1        \n",
    "        dst = os.path.join(file_path, dst)\n",
    "        os.rename(src, dst)\n",
    "    if(int(name.split('-')[1])==3):\n",
    "        dst = 'dogbark' + str(i) + '.wav'\n",
    "        i += 1        \n",
    "        dst = os.path.join(file_path, dst)\n",
    "        os.rename(src, dst)"
   ]
  },
  {
   "cell_type": "markdown",
   "metadata": {},
   "source": [
    "### features 추출"
   ]
  },
  {
   "cell_type": "code",
   "execution_count": 1,
   "metadata": {},
   "outputs": [],
   "source": [
    "import numpy as np\n",
    "import pandas as pd\n",
    "import glob\n",
    "import librosa\n",
    "\n",
    "def sound_feature(file_name):\n",
    "    X, sample_rate = librosa.load(file_name)\n",
    "    stft = np.abs(librosa.stft(X))\n",
    "    mfccs = np.mean(librosa.feature.mfcc(y=X, sr=sample_rate, n_mfcc=40).T,axis=0)\n",
    "    chroma = np.mean(librosa.feature.chroma_stft(S=stft, sr=sample_rate).T,axis=0)\n",
    "    mel = np.mean(librosa.feature.melspectrogram(X, sr=sample_rate).T,axis=0)\n",
    "    contrast = np.mean(librosa.feature.spectral_contrast(S=stft, sr=sample_rate).T,axis=0)\n",
    "    tonnetz = np.mean(librosa.feature.tonnetz(y=librosa.effects.harmonic(X), sr=sample_rate).T,axis=0)\n",
    "    return mfccs,chroma,mel,contrast,tonnetz"
   ]
  },
  {
   "cell_type": "code",
   "execution_count": 2,
   "metadata": {},
   "outputs": [
    {
     "name": "stdout",
     "output_type": "stream",
     "text": [
      "(41668, 193)\n"
     ]
    }
   ],
   "source": [
    "files = glob.glob('D:/dataset3/*.wav')\n",
    "rows = len(files)\n",
    "features = np.zeros((rows, 193))\n",
    "print(features.shape)"
   ]
  },
  {
   "cell_type": "code",
   "execution_count": 3,
   "metadata": {},
   "outputs": [],
   "source": [
    "def parse_files(files): \n",
    "    index=0\n",
    "    for filename in files:\n",
    "        try:\n",
    "            mfccs, chroma, mel, contrast, tonnetz = sound_feature(filename)\n",
    "            exfeatures = np.hstack([mfccs, chroma, mel, contrast, tonnetz])\n",
    "        except:\n",
    "            print(\"error \" + filename)\n",
    "        else:\n",
    "            features[index] = exfeatures\n",
    "            index+=1\n",
    "    print(features)\n",
    "    return features"
   ]
  },
  {
   "cell_type": "code",
   "execution_count": null,
   "metadata": {},
   "outputs": [],
   "source": [
    "parse_files(files)"
   ]
  },
  {
   "cell_type": "markdown",
   "metadata": {},
   "source": [
    "### label 원핫인코딩"
   ]
  },
  {
   "cell_type": "code",
   "execution_count": 4,
   "metadata": {},
   "outputs": [],
   "source": [
    "import os\n",
    "int_y = []\n",
    "y = []\n",
    "\n",
    "label_dict = {\n",
    "    'dogbark' : 0,\n",
    "    'siren' : 1,\n",
    "    'babycry' : 2,\n",
    "    'Doorbell' :3,\n",
    "}\n",
    "\n",
    "path = 'D:/dataset3'"
   ]
  },
  {
   "cell_type": "code",
   "execution_count": 5,
   "metadata": {},
   "outputs": [],
   "source": [
    "for file_path in os.listdir(path) :\n",
    "    if file_path[0] == '.' : \n",
    "        continue\n",
    "    for item_key, item_val in label_dict.items():\n",
    "        cur = np.zeros(len(label_dict)) \n",
    "        if item_key in file_path :\n",
    "            cur[item_val] = 1 \n",
    "            y.append(cur)\n",
    "            int_y.append(item_val)"
   ]
  },
  {
   "cell_type": "markdown",
   "metadata": {},
   "source": [
    "### 골고루 데이터 섞어주기"
   ]
  },
  {
   "cell_type": "code",
   "execution_count": null,
   "metadata": {},
   "outputs": [],
   "source": [
    "from sklearn.model_selection import StratifiedShuffleSplit\n",
    "\n",
    "stratSplit = StratifiedShuffleSplit(n_splits=1, test_size=0.32, random_state=0)\n",
    "\n",
    "stratSplit.get_n_splits(features, int_y)\n",
    "\n",
    "for train_index, test_index in stratSplit.split(features, y):\n",
    "    ##print(\"TRAIN:\", train_index, \"TEST:\", test_index)\n",
    "    X_train, X_test = features[train_index], features[test_index]\n",
    "    y_train, y_test = y[train_index], y[test_index]\n",
    "\n",
    "print(X_train.shape)\n",
    "print(y_train.shape)\n",
    "\n",
    "X_train = X_train.reshape(X_train.shape[0], 193, 1)\n",
    "X_test = X_test.reshape(X_test.shape[0], 193, 1)"
   ]
  },
  {
   "cell_type": "code",
   "execution_count": 9,
   "metadata": {},
   "outputs": [],
   "source": [
    "np.save(\"X_train\", X_train)\n",
    "np.save(\"X_test\", X_test)\n",
    "np.save(\"y_train\", y_train)\n",
    "np.save(\"y_test\", y_test)"
   ]
  },
  {
   "cell_type": "code",
   "execution_count": 3,
   "metadata": {},
   "outputs": [],
   "source": [
    "X_test = np.load('X_test.npy') \n",
    "X_train = np.load('X_train.npy') \n",
    "y_test = np.load('y_test.npy')\n",
    "y_train = np.load('y_train.npy')"
   ]
  },
  {
   "cell_type": "markdown",
   "metadata": {},
   "source": [
    "### 학습"
   ]
  },
  {
   "cell_type": "code",
   "execution_count": 4,
   "metadata": {},
   "outputs": [],
   "source": [
    "import matplotlib.pyplot as plt\n",
    "from tensorflow.keras.models import Sequential, load_model\n",
    "from tensorflow.keras.layers import LSTM, Dense, GRU\n",
    "from keras.utils import to_categorical\n",
    "from keras.callbacks import EarlyStopping"
   ]
  },
  {
   "cell_type": "code",
   "execution_count": 11,
   "metadata": {
    "scrolled": true
   },
   "outputs": [
    {
     "name": "stdout",
     "output_type": "stream",
     "text": [
      "Model: \"sequential_1\"\n",
      "_________________________________________________________________\n",
      "Layer (type)                 Output Shape              Param #   \n",
      "=================================================================\n",
      "lstm_1 (LSTM)                (None, 20)                1760      \n",
      "_________________________________________________________________\n",
      "dense_1 (Dense)              (None, 4)                 84        \n",
      "=================================================================\n",
      "Total params: 1,844\n",
      "Trainable params: 1,844\n",
      "Non-trainable params: 0\n",
      "_________________________________________________________________\n",
      "Epoch 1/20\n",
      "2834/2834 [==============================] - 85s 30ms/step - loss: 0.1698 - accuracy: 0.4480 - val_loss: 0.1395 - val_accuracy: 0.5647\n",
      "Epoch 2/20\n",
      "2834/2834 [==============================] - 86s 30ms/step - loss: 0.1357 - accuracy: 0.5872 - val_loss: 0.1214 - val_accuracy: 0.6372\n",
      "Epoch 3/20\n",
      "2834/2834 [==============================] - 88s 31ms/step - loss: 0.1247 - accuracy: 0.6247 - val_loss: 0.1178 - val_accuracy: 0.6512\n",
      "Epoch 4/20\n",
      "2834/2834 [==============================] - 88s 31ms/step - loss: 0.1201 - accuracy: 0.6352 - val_loss: 0.1254 - val_accuracy: 0.6259\n",
      "Epoch 5/20\n",
      "2834/2834 [==============================] - 88s 31ms/step - loss: 0.1146 - accuracy: 0.6519 - val_loss: 0.1059 - val_accuracy: 0.6861\n",
      "Epoch 6/20\n",
      "2834/2834 [==============================] - 88s 31ms/step - loss: 0.1058 - accuracy: 0.6912 - val_loss: 0.0987 - val_accuracy: 0.7224\n",
      "Epoch 7/20\n",
      "2834/2834 [==============================] - 91s 32ms/step - loss: 0.0971 - accuracy: 0.7229 - val_loss: 0.1081 - val_accuracy: 0.6838\n",
      "Epoch 8/20\n",
      "2834/2834 [==============================] - 88s 31ms/step - loss: 0.0941 - accuracy: 0.7325 - val_loss: 0.0843 - val_accuracy: 0.7567\n",
      "Epoch 9/20\n",
      "2834/2834 [==============================] - 86s 30ms/step - loss: 0.0871 - accuracy: 0.7544 - val_loss: 0.0950 - val_accuracy: 0.7311\n",
      "Epoch 10/20\n",
      "2834/2834 [==============================] - 91s 32ms/step - loss: 0.1168 - accuracy: 0.6484 - val_loss: 0.0975 - val_accuracy: 0.7134\n",
      "Epoch 11/20\n",
      "2834/2834 [==============================] - 91s 32ms/step - loss: 0.0953 - accuracy: 0.7279 - val_loss: 0.0966 - val_accuracy: 0.7319\n",
      "Epoch 12/20\n",
      "2834/2834 [==============================] - 90s 32ms/step - loss: 0.0853 - accuracy: 0.7618 - val_loss: 0.0755 - val_accuracy: 0.7914\n",
      "Epoch 13/20\n",
      "2834/2834 [==============================] - 90s 32ms/step - loss: 0.0781 - accuracy: 0.7818 - val_loss: 0.0815 - val_accuracy: 0.7770\n",
      "Epoch 14/20\n",
      "2834/2834 [==============================] - 90s 32ms/step - loss: 0.0778 - accuracy: 0.7845 - val_loss: 0.0757 - val_accuracy: 0.7846\n",
      "Epoch 15/20\n",
      "2834/2834 [==============================] - 90s 32ms/step - loss: 0.0782 - accuracy: 0.7827 - val_loss: 0.1283 - val_accuracy: 0.6129\n",
      "Epoch 16/20\n",
      "2834/2834 [==============================] - 91s 32ms/step - loss: 0.1165 - accuracy: 0.6500 - val_loss: 0.0918 - val_accuracy: 0.7457\n",
      "Epoch 17/20\n",
      "2834/2834 [==============================] - 90s 32ms/step - loss: 0.0837 - accuracy: 0.7666 - val_loss: 0.0800 - val_accuracy: 0.7802\n",
      "Epoch 18/20\n",
      "2834/2834 [==============================] - 90s 32ms/step - loss: 0.0752 - accuracy: 0.7925 - val_loss: 0.0729 - val_accuracy: 0.7947\n",
      "Epoch 19/20\n",
      "2834/2834 [==============================] - 90s 32ms/step - loss: 0.0722 - accuracy: 0.8002 - val_loss: 0.0706 - val_accuracy: 0.8062\n",
      "Epoch 20/20\n",
      "2834/2834 [==============================] - 90s 32ms/step - loss: 0.0700 - accuracy: 0.8080 - val_loss: 0.0661 - val_accuracy: 0.8235\n"
     ]
    },
    {
     "data": {
      "image/png": "[encoded data removed]",
      "text/plain": [
       "<Figure size 1080x720 with 1 Axes>"
      ]
     },
     "metadata": {
      "needs_background": "light"
     },
     "output_type": "display_data"
    },
    {
     "name": "stdout",
     "output_type": "stream",
     "text": [
      "{'loss': [0.15607596933841705, 0.1330980658531189, 0.12295658886432648, 0.12305881083011627, 0.11265978962182999, 0.10406257957220078, 0.09517442435026169, 0.08980180323123932, 0.08603967726230621, 0.13337993621826172, 0.09488376975059509, 0.08234632015228271, 0.07881752401590347, 0.07687303423881531, 0.09464561939239502, 0.10561725497245789, 0.08134929835796356, 0.07559375464916229, 0.0715150237083435, 0.06953909993171692], 'accuracy': [0.5062822103500366, 0.59935063123703, 0.6290322542190552, 0.6249029636383057, 0.6619961857795715, 0.6977483034133911, 0.7285946011543274, 0.7481471300125122, 0.7607821226119995, 0.5935624837875366, 0.7299004793167114, 0.7699936628341675, 0.7790639996528625, 0.7859461903572083, 0.7264417409896851, 0.6928072571754456, 0.7758523225784302, 0.7914166450500488, 0.80465167760849, 0.8096632957458496], 'val_loss': [0.1395457237958908, 0.12135420739650726, 0.11777332425117493, 0.12535208463668823, 0.10594210028648376, 0.09868598729372025, 0.10814886540174484, 0.08434801548719406, 0.09502192586660385, 0.09749824553728104, 0.0965745821595192, 0.07549571990966797, 0.08148211985826492, 0.07571336627006531, 0.12826873362064362, 0.09181855618953705, 0.08003630489110947, 0.07287994772195816, 0.07057193666696548, 0.06605756282806396], 'val_accuracy': [0.5647217631340027, 0.6371681690216064, 0.6511924266815186, 0.6259186863899231, 0.6861407160758972, 0.7224388718605042, 0.6838158369064331, 0.7567121386528015, 0.7311384677886963, 0.71336430311203, 0.7318884134292603, 0.7914354205131531, 0.7769611477851868, 0.7846107482910156, 0.6129443645477295, 0.74568772315979, 0.7801859974861145, 0.7946602702140808, 0.8062096834182739, 0.823533833026886]}\n",
      "train loss= 0.06953909993171692\n",
      "validation loss= 0.06605756282806396\n"
     ]
    }
   ],
   "source": [
    "def plot_loss_curve(history):\n",
    "    import matplotlib.pyplot as plt\n",
    "    \n",
    "    plt.figure(figsize=(15,10))\n",
    "    \n",
    "    plt.plot(history['loss'])\n",
    "    plt.plot(history['val_loss'])\n",
    "    plt.title('model loss')\n",
    "    plt.ylabel('loss')\n",
    "    plt.xlabel('epoch')\n",
    "    plt.legend(['train', 'test'], loc='upper right')\n",
    "    plt.show()\n",
    "    \n",
    "def train_lstm_model(X_train, X_test):\n",
    "    model = Sequential()\n",
    "    model.add(LSTM(20, input_shape=(193, 1))) \n",
    "    model.add(Dense(4))\n",
    "    model.summary()\n",
    "    \n",
    "    model.compile(optimizer='adam', loss='mean_squared_error', metrics=['accuracy'])\n",
    "    \n",
    "    earlystopping = EarlyStopping(monitor='loss', patience=1, verbose=1)\n",
    "    \n",
    "    history = model.fit(X_train, y_train, epochs=20, validation_data=(X_test, y_test), batch_size=10, \n",
    "                        verbose=1)\n",
    "    \n",
    "    plot_loss_curve(history.history)\n",
    "    \n",
    "    print(history.history)\n",
    "    \n",
    "    print(\"train loss=\",history.history['loss'][-1])\n",
    "    print(\"validation loss=\",history.history['val_loss'][-1])\n",
    "    \n",
    "    return model\n",
    "\n",
    "model = train_lstm_model(X_train, X_test)\n"
   ]
  },
  {
   "cell_type": "code",
   "execution_count": 44,
   "metadata": {},
   "outputs": [],
   "source": [
    "model = load_model('model.h5')"
   ]
  },
  {
   "cell_type": "markdown",
   "metadata": {},
   "source": [
    "### predict 하기 위한 feature 추출"
   ]
  },
  {
   "cell_type": "code",
   "execution_count": 45,
   "metadata": {},
   "outputs": [],
   "source": [
    "def parse_sound(files): \n",
    "    index=0\n",
    "    try:\n",
    "        mfccs, chroma, mel, contrast, tonnetz = sound_feature(files)\n",
    "        exfeatures = np.hstack([mfccs, chroma, mel, contrast, tonnetz])\n",
    "    except:\n",
    "        print(\"error \" + filename)\n",
    "    else:\n",
    "        features[index] = exfeatures\n",
    "        index+=1\n",
    "    return features\n"
   ]
  },
  {
   "cell_type": "markdown",
   "metadata": {},
   "source": [
    "### predict"
   ]
  },
  {
   "cell_type": "code",
   "execution_count": 46,
   "metadata": {},
   "outputs": [],
   "source": [
    "def predict_sound(filename):\n",
    "    X = parse_sound(filename)\n",
    "    X = X[0]\n",
    "    X = X.reshape(1,193,1)\n",
    "    y_pred = model.predict(X)\n",
    "    print(y_pred)\n",
    "    tmp_y_pred = y_pred\n",
    "    y_pred = np.argmax(y_pred, axis=1)[0]\n",
    "    if tmp_y_pred[0][y_pred] < 0.5:\n",
    "        print(\"소리가 발생하였지만 폭발음, 아기울음소리, 외침소리, 사이렌 은 아닌듯 합니다.\")\n",
    "    else:\n",
    "        if y_pred == 0:\n",
    "            print('%f 개 짖는 소리가 들립니다!' + \" \" + str(tmp_y_pred[0][y_pred]) + \"%\")\n",
    "        elif y_pred == 1:\n",
    "            print('siren 소리가 들립니다!' + \" \" + str(tmp_y_pred[0][y_pred]) + \"%\")\n",
    "        elif y_pred == 2:\n",
    "            print('아기 울음 소리가 들립니다!' + \" \" + str(tmp_y_pred[0][y_pred]) + \"%\")\n",
    "        else:\n",
    "            print('Doorbell 소리가 들립니다!' + \" \" + str(tmp_y_pred[0][y_pred]) + \"%\")"
   ]
  },
  {
   "cell_type": "code",
   "execution_count": 48,
   "metadata": {
    "scrolled": true
   },
   "outputs": [
    {
     "name": "stdout",
     "output_type": "stream",
     "text": [
      "[[ 0.06130669  0.06647348  0.89816    -0.02561412]]\n",
      "아기 울음 소리가 들립니다! 0.89816%\n"
     ]
    }
   ],
   "source": [
    "predict_sound('babycry207.wav')"
   ]
  }
 ],
 "metadata": {
  "kernelspec": {
   "display_name": "Python 3",
   "language": "python",
   "name": "python3"
  },
  "language_info": {
   "codemirror_mode": {
    "name": "ipython",
    "version": 3
   },
   "file_extension": ".py",
   "mimetype": "text/x-python",
   "name": "python",
   "nbconvert_exporter": "python",
   "pygments_lexer": "ipython3",
   "version": "3.7.6"
  }
 },
 "nbformat": 4,
 "nbformat_minor": 4
}
